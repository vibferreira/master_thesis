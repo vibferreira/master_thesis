{
 "cells": [
  {
   "cell_type": "markdown",
   "metadata": {},
   "source": [
    "### Exploratory Data Analysis - Aerial Historical Images"
   ]
  },
  {
   "cell_type": "code",
   "execution_count": null,
   "metadata": {},
   "outputs": [],
   "source": [
    "#@title hide\n",
    "import re\n",
    "import glob\n",
    "from os import path\n",
    "import numpy as np\n",
    "from pandas import DataFrame\n",
    "\n",
    "import geopandas as gpd\n",
    "import fiona\n",
    "import rioxarray as rxr\n",
    "import xarray as xr\n",
    "import cv2"
   ]
  },
  {
   "cell_type": "code",
   "execution_count": null,
   "metadata": {},
   "outputs": [],
   "source": [
    "# read images\n",
    "\n",
    "# read mask"
   ]
  }
 ],
 "metadata": {
  "interpreter": {
   "hash": "d93b75d3294dbd4f4259d06581fc374426f5b2409be4b596644c09fc98543cfc"
  },
  "kernelspec": {
   "display_name": "Python 3.7.11 ('geolibs')",
   "language": "python",
   "name": "python3"
  },
  "language_info": {
   "name": "python",
   "version": "3.7.11"
  },
  "orig_nbformat": 4
 },
 "nbformat": 4,
 "nbformat_minor": 2
}
