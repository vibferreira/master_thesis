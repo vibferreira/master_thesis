{
 "cells": [
  {
   "cell_type": "code",
   "execution_count": 62,
   "id": "7297a03e-f681-49a8-a09e-cc71f279bd82",
   "metadata": {},
   "outputs": [],
   "source": [
    "import glob\n",
    "import cv2\n",
    "import re\n",
    "import numpy as np\n",
    "import matplotlib.pyplot as plt\n",
    "import pandas as pd"
   ]
  },
  {
   "cell_type": "code",
   "execution_count": 64,
   "id": "759c4e32-2e85-4557-8570-a97c0753b8cf",
   "metadata": {},
   "outputs": [],
   "source": [
    "# Paths\n",
    "IMAGES_PATH = '../data/patches/images/1942'\n",
    "MASK_PATH = '../data/patches/masks/1942'\n",
    "\n",
    "image_paths = glob.glob(IMAGES_PATH +'/*.tif')\n",
    "mask_paths = glob.glob(MASK_PATH +'/*.tif')"
   ]
  },
  {
   "cell_type": "code",
   "execution_count": 63,
   "id": "430d8819-0b1c-4608-8b0d-268c6e6d463b",
   "metadata": {},
   "outputs": [],
   "source": [
    "# UTILS\n",
    "def file_name(file: str) -> str:\n",
    "    return re.split('[-/_.\\s]\\s*', file)[-2]"
   ]
  },
  {
   "cell_type": "code",
   "execution_count": 65,
   "id": "77572a28-f1a9-412d-add5-12c8c86c9c8a",
   "metadata": {},
   "outputs": [],
   "source": [
    "patches = np.zeros((len(image_paths), 256,256))\n",
    "# df =\n",
    "for i, img in enumerate(image_paths):\n",
    "    patches[i] = cv2.imread(img, cv2.IMREAD_GRAYSCALE)"
   ]
  },
  {
   "cell_type": "code",
   "execution_count": 66,
   "id": "ffc65be6-dbaa-4150-8bf8-7e67f00a9d33",
   "metadata": {},
   "outputs": [
    {
     "data": {
      "text/plain": [
       "192.0"
      ]
     },
     "execution_count": 66,
     "metadata": {},
     "output_type": "execute_result"
    }
   ],
   "source": []
  }
 ],
 "metadata": {
  "kernelspec": {
   "display_name": "torch_env",
   "language": "python",
   "name": "torch_env"
  },
  "language_info": {
   "codemirror_mode": {
    "name": "ipython",
    "version": 3
   },
   "file_extension": ".py",
   "mimetype": "text/x-python",
   "name": "python",
   "nbconvert_exporter": "python",
   "pygments_lexer": "ipython3",
   "version": "3.9.7"
  }
 },
 "nbformat": 4,
 "nbformat_minor": 5
}
