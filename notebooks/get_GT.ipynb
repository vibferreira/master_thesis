{
 "cells": [
  {
   "cell_type": "code",
   "execution_count": 1,
   "metadata": {},
   "outputs": [],
   "source": [
    "%%capture\n",
    "import re\n",
    "import glob\n",
    "from os import path\n",
    "from datetime import datetime\n",
    "import numpy as np\n",
    "\n",
    "import geopandas as gpd\n",
    "import fiona\n",
    "import rioxarray as rxr\n",
    "import xarray as xr\n",
    "from shapely.geometry import mapping\n",
    "from geocube.api.core import make_geocube\n",
    "import cv2\n",
    "\n",
    "from skimage.io import imread\n",
    "\n",
    "import matplotlib.pyplot as plt\n"
   ]
  },
  {
   "cell_type": "code",
   "execution_count": 2,
   "metadata": {},
   "outputs": [],
   "source": [
    "MASKS_PATH = 'data\\mask_per_year.gpkg'\n",
    "IMAGES_PATH = 'data\\images'\n",
    "\n",
    "grid = gpd.read_file('data\\grid.gpkg')\n",
    "years = fiona.listlayers(MASKS_PATH)[1:] # list layers/years\n",
    "\n",
    "# read the masks \n",
    "mask_per_year = {key: gpd.read_file(MASKS_PATH, layer=key) for key in years}\n",
    "\n",
    "# add a 1 column\n",
    "for value in mask_per_year.values():\n",
    "    value['value'] = 1\n",
    "\n",
    "# CRS assertion \n",
    "for year in years:\n",
    "    assert mask_per_year[year].crs == grid.crs, 'CRS must match'\n",
    "assert grid.is_valid.all(), 'Invalid geometry'\n",
    "\n",
    "# clip by grid extent \n",
    "mask_per_year = {key: values.clip(grid) for key, values in mask_per_year.items()}"
   ]
  },
  {
   "cell_type": "code",
   "execution_count": 3,
   "metadata": {},
   "outputs": [
    {
     "data": {
      "text/plain": [
       "['data\\\\images\\\\1942.tif',\n",
       " 'data\\\\images\\\\1962.tif',\n",
       " 'data\\\\images\\\\1971.tif',\n",
       " 'data\\\\images\\\\1984.tif',\n",
       " 'data\\\\images\\\\1992.tif',\n",
       " 'data\\\\images\\\\2002.tif']"
      ]
     },
     "execution_count": 3,
     "metadata": {},
     "output_type": "execute_result"
    }
   ],
   "source": [
    "paths = glob.glob(IMAGES_PATH +'/*')\n",
    "paths"
   ]
  },
  {
   "cell_type": "code",
   "execution_count": 4,
   "metadata": {},
   "outputs": [
    {
     "name": "stdout",
     "output_type": "stream",
     "text": [
      "1942 is already clipped!\n",
      "1962 is already clipped!\n",
      "1971 is already clipped!\n",
      "1984 is already clipped!\n",
      "1992 is already clipped!\n",
      "2002 is already clipped!\n"
     ]
    }
   ],
   "source": [
    "imgs_by_year = []\n",
    "SIZES = []\n",
    "\n",
    "for imgs in paths:\n",
    "    # get the year name in the file path \n",
    "    year = re.findall(r\"[\\w+']+\", imgs)[-2]\n",
    "\n",
    "    xr_imgs = rxr.open_rasterio(imgs).squeeze().astype(np.uint8)\n",
    "    \n",
    "\n",
    "    # set time attributes \n",
    "    xr_imgs.attrs['year'] = year\n",
    "\n",
    "    # store image sizes (may be used in a later stage to resample the raster)\n",
    "    SIZES.append(xr_imgs.shape)\n",
    "    SIZES.sort()\n",
    "\n",
    "    # Save clipped raster\n",
    "    if not path.exists(f\"data/clipped_images/{year}.tif\"):\n",
    "        print('clipping image from', year)\n",
    "        # clip by grid extent \n",
    "        xr_imgs_clipped = xr_imgs.rio.clip(grid.geometry.apply(mapping), grid.crs)\n",
    "\n",
    "        # save geotif\n",
    "        xr_imgs_clipped.rio.to_raster(f'data/clipped_images/{year}.tif')\n",
    "\n",
    "    else:\n",
    "        print(f'{year} is already clipped!')"
   ]
  },
  {
   "cell_type": "code",
   "execution_count": 6,
   "metadata": {},
   "outputs": [],
   "source": [
    "def rasterize_vect(df):\n",
    "    return make_geocube(vector_data=df,\n",
    "    measurements=[\"value\"],\n",
    "    resolution=(0.75,-0.75),\n",
    "    fill=0).astype(np.uint8)\n",
    "    \n",
    "for year in years:\n",
    "    if not path.exists(f'data/mask/{year}.tif'):\n",
    "        dataset = rasterize_vect(mask_per_year[year])\n",
    "        out_grid_2 = dataset.to_array()\n",
    "        out_grid_2.rio.to_raster(f'data/mask/{year}.tif')"
   ]
  }
 ],
 "metadata": {
  "interpreter": {
   "hash": "e6362be9339440602fd60c3aaddcf8f26895c31c8f2efe8cb807f813e9c3fced"
  },
  "kernelspec": {
   "display_name": "Python 3.9.7 ('geo_luck')",
   "language": "python",
   "name": "python3"
  },
  "language_info": {
   "codemirror_mode": {
    "name": "ipython",
    "version": 3
   },
   "file_extension": ".py",
   "mimetype": "text/x-python",
   "name": "python",
   "nbconvert_exporter": "python",
   "pygments_lexer": "ipython3",
   "version": "3.8.12"
  },
  "orig_nbformat": 4
 },
 "nbformat": 4,
 "nbformat_minor": 2
}
