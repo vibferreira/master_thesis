{
 "cells": [
  {
   "cell_type": "markdown",
   "metadata": {
    "tags": []
   },
   "source": [
    "### Libs"
   ]
  },
  {
   "cell_type": "code",
   "execution_count": 6,
   "metadata": {},
   "outputs": [],
   "source": [
    "from tqdm import tqdm\n",
    "import numpy as np\n",
    "import os\n",
    "import random\n",
    "import glob\n",
    "import re\n",
    "\n",
    "import cv2\n",
    "import geopandas as gpd\n",
    "import pandas as pd\n",
    "\n",
    "import albumentations as A\n",
    "\n",
    "import gc\n",
    "import torch\n",
    "import torch.nn as nn\n",
    "import torch.optim as optim\n",
    "from torch.nn import BCEWithLogitsLoss\n",
    "import torch.nn.functional as F\n",
    "from torch.cuda.amp import GradScaler, autocast\n",
    "import segmentation_models_pytorch as smp\n",
    "from torchvision.utils import make_grid, save_image\n",
    "from torch.optim.lr_scheduler import ReduceLROnPlateau\n",
    "\n",
    "from sklearn.model_selection import train_test_split\n",
    "from sklearn.metrics import roc_curve, auc\n",
    "\n",
    "import model\n",
    "import metrics\n",
    "import config\n",
    "import utis\n",
    "import train_val_test\n",
    "\n",
    "from matplotlib import pyplot as plt, cm\n",
    "import plotly.express as px\n",
    "\n",
    "from torch.utils.data import DataLoader, random_split\n",
    "from dataset import HistoricalImagesDataset\n",
    "import config\n",
    "\n",
    "# Ignore excessive warnings\n",
    "import logging\n",
    "logging.propagate = False \n",
    "logging.getLogger().setLevel(logging.ERROR)\n",
    "\n",
    "# WandB – Import the wandb library\n",
    "import wandb\n",
    "\n",
    "import albumentations as A\n",
    "import albumentations.augmentations.functional as F\n",
    "from albumentations.pytorch import ToTensorV2"
   ]
  },
  {
   "cell_type": "markdown",
   "metadata": {},
   "source": [
    "### Weights and Biases"
   ]
  },
  {
   "cell_type": "code",
   "execution_count": 2,
   "metadata": {},
   "outputs": [
    {
     "name": "stdout",
     "output_type": "stream",
     "text": [
      "\u001b[34m\u001b[1mwandb\u001b[0m: Currently logged in as: \u001b[33mvibferreira\u001b[0m (use `wandb login --relogin` to force relogin)\n"
     ]
    }
   ],
   "source": [
    "!wandb login "
   ]
  },
  {
   "cell_type": "markdown",
   "metadata": {
    "tags": []
   },
   "source": [
    "### Custom Split Dataset"
   ]
  },
  {
   "cell_type": "code",
   "execution_count": 7,
   "metadata": {},
   "outputs": [],
   "source": [
    "# Paths\n",
    "IMAGES_PATH = '../data/patches/images/1942'\n",
    "MASK_PATH = '../data/patches/masks/1942'\n",
    "BEST_MODEL = '../best_model'\n",
    "FILTER_PATH = '../data/geopackages/patch_keys.gpkg'\n",
    "TEST_DATASET_PATH = '../data/test_dataset'\n",
    "\n",
    "image_paths = glob.glob(IMAGES_PATH +'/*.tif')\n",
    "mask_paths = glob.glob(MASK_PATH +'/*.tif')"
   ]
  },
  {
   "cell_type": "code",
   "execution_count": 18,
   "metadata": {},
   "outputs": [],
   "source": [
    "import rasterio as rio\n",
    "\n",
    "def train_images_paths(paths:list, test:list) -> list:\n",
    "    ''' Returns list of images paths that DOES NOT exist on the test list'''\n",
    "    train_paths = []\n",
    "    for i in paths:\n",
    "        if not np.isin(i, test):\n",
    "            train_paths.append(i)\n",
    "    return train_paths\n",
    "\n",
    "def get_file_index(file:str) -> str:\n",
    "    '''Returns the idx name from file name'''\n",
    "    return re.split(r\"[/_.]\\s*\", file)[-2]\n",
    "\n",
    "def filtered_paths(current_paths:list, \n",
    "                   filter_paths:list)-> list:\n",
    "    ''' Filters paths according to ID, keep only matching IDs '''\n",
    "    filtered_paths = []\n",
    "    for i in current_paths:\n",
    "        if np.isin(int(get_file_index(i)), list(filter_paths)):\n",
    "            filtered_paths.append(i)      \n",
    "    return filtered_paths\n",
    "\n",
    "def get_n_training_samples(image_paths,\n",
    "                           mask_paths,\n",
    "                           filtered_idxs, \n",
    "                           number_training_patchs):\n",
    "    \n",
    "        all_coarse_idxs = [get_file_index(i) for i in filtered_idxs]\n",
    "\n",
    "        # select random percentage of coarse labels\n",
    "        random.seed(41)\n",
    "        val_samples = int(0.30*number_training_patchs)\n",
    "        n_samples = number_training_patchs + int(0.30*number_training_patchs)\n",
    "        sampled_coarse_idxs = random.sample(all_coarse_idxs, n_samples)\n",
    "        \n",
    "        # get the paths \n",
    "        X_idxs = filtered_paths(image_paths, sampled_coarse_idxs) \n",
    "        y_idxs = filtered_paths(mask_paths, sampled_coarse_idxs)\n",
    "        \n",
    "        return val_samples, X_idxs, y_idxs\n",
    "    \n",
    "    \n",
    "def get_coords (image_list:list) -> dict:\n",
    "    '''\n",
    "    Return the rasterio profile of the images\n",
    "    Args:\n",
    "    image_list (list) : list of image paths\n",
    "    Returns:\n",
    "    coords (dict) : rasterio profile with image id\n",
    "    '''\n",
    "    coords = {}\n",
    "    for img in image_list:\n",
    "        # and its respective id\n",
    "        ids = get_file_index(img)\n",
    "\n",
    "        # get the profile of the patches\n",
    "        with rio.open(img) as src:\n",
    "            ras_data = src.read().astype('uint8')\n",
    "            profile = src.profile # get the original image profile\n",
    "\n",
    "        # save in a dict\n",
    "        coords.update([(ids, profile)])\n",
    "    return coords  \n",
    "\n",
    "def save_test_dataset(DEST_PATH:str,\n",
    "                      list_of_imgs:list) -> None:\n",
    "    \n",
    "    ''' Save the test dataset in a separate folder\n",
    "    Args:\n",
    "    DEST_PATH (str): destination folder\n",
    "    list_of_imgs(list): list of images to save'''\n",
    "    \n",
    "    coords = get_coords(list_of_imgs)\n",
    "    \n",
    "    if not glob.glob(DEST_PATH +'/*.tif'):\n",
    "        #save test dataset on the dest folder WITH CRS\n",
    "        for img in list_of_imgs:\n",
    "            idx = utis.get_file_index(img)\n",
    "            print(img)\n",
    "            with rio.open(img) as src:\n",
    "                data = src.read().astype('uint8')\n",
    "                profile = src.profile\n",
    "\n",
    "            print(f'Saving dataset {DEST_PATH}/1942_{idx}.tif')\n",
    "            with rio.open(f'{DEST_PATH}/1942_{idx}.tif', 'w', **profile) as dst:\n",
    "                dst.write(np.squeeze(data), 1)  \n",
    "\n",
    "def custom_split(filters:dict, image_paths:list, \n",
    "                 mask_paths:list, \n",
    "                 test_size:int, \n",
    "                 data_portion:str, \n",
    "                 DEST_PATH:str, \n",
    "                 number_training_patchs = 20) -> list:\n",
    "    \n",
    "    ''' Split the dataset based on the filter status\n",
    "    Args:\n",
    "    filters (dict): dict with the filtered paths by status\n",
    "    test_size (float): percentage of the dataset that will be used to test\n",
    "    data_portion (str):  'coarse_plus_fine_labels', 'fine_labels' or 'coarse_labels' define which portion of the data to use'''\n",
    "\n",
    "    # sample to the same size of the smallest dataset\n",
    "    veg_filters = filters.copy()\n",
    "\n",
    "    # coarse to very coarse is not considered in the fine dataset filter \n",
    "    if np.isin('coarse_to_very_coarse', list(veg_filters.keys())):\n",
    "        del veg_filters['coarse_to_very_coarse']\n",
    "\n",
    "    # find the minimum dataset size among the classs in the filter, so all of them are equally represented    \n",
    "    sample_size = min([len(value) for key, value in veg_filters.items()])\n",
    "\n",
    "    # get all veg_filter idx\n",
    "    all_filter_idx = np.concatenate([i for i in veg_filters.values()])\n",
    "    \n",
    "    # random sample sample_size points from each filter class to create the TEST DATASET\n",
    "    test_size = test_size/(sample_size*5) # 5 is the number of filters\n",
    "    test_size = int(sample_size*test_size)\n",
    "    test_dic = {key:value.sample(n=test_size, replace=False, random_state=0) for key, value in veg_filters.items()} # random sample\n",
    "    test_idx = np.concatenate([i for i in test_dic.values()])\n",
    "    \n",
    "    # get the remaining patches from the filters to be the X_train and X_val of the fine patches\n",
    "    val_train_idxs = train_images_paths(all_filter_idx, test_idx)\n",
    "\n",
    "    # Filter the paths from the path lists\n",
    "    # Note the test dataset is the SAME for all data portions\n",
    "    X_test = filtered_paths(image_paths, test_idx) \n",
    "    y_test = filtered_paths(mask_paths, test_idx) \n",
    "    \n",
    "#     # save a separate test dataset \n",
    "    if data_portion == 'fine_labels':\n",
    "        save_test_dataset(f'{DEST_PATH}/images', X_test)\n",
    "        save_test_dataset(f'{DEST_PATH}/masks', y_test)\n",
    "        \n",
    "    X_test = glob.glob(f'{DEST_PATH}/images' +'/*.tif') \n",
    "    y_test = glob.glob(f'{DEST_PATH}/masks' +'/*.tif') \n",
    "    \n",
    "    portions = ['all_coarse_labels','coarse_plus_fine_labels', 'fine_labels', 'coarse_labels']\n",
    "    assert np.isin(data_portion, portions)\n",
    "    \n",
    "    # Decide if using whole data or ONLY the filtered paths \n",
    "#     if data_portion == 'coarse_plus_fine_labels': # all patches are used\n",
    "#         X_train = train_images_paths(f'{DEST_PATH}/images', X_test)\n",
    "#         y_train = train_images_paths(f'{DEST_PATH}/masks', y_test)\n",
    "\n",
    "#         X_train, X_val, y_train, y_val = train_test_split(X_train, y_train, test_size=0.30, random_state=42, shuffle=True)\n",
    "        \n",
    "    if data_portion == 'coarse_labels': # if only coarse patches are used\n",
    "        coarse_X_idx = filtered_paths(image_paths, val_train_idxs) \n",
    "        coarse_y_idx = filtered_paths(mask_paths, val_train_idxs) \n",
    "        \n",
    "        val_samples, coarse_X_idx, coarse_y_idx = get_n_training_samples(image_paths,\n",
    "                           mask_paths,\n",
    "                           fine_X_idx, \n",
    "                           number_training_patchs)\n",
    "\n",
    "        X_train, X_val, y_train, y_val = train_test_split(coarse_X_idxs, coarse_y_idxs, test_size=val_samples, random_state=42, shuffle=True)    \n",
    "        \n",
    "    elif data_portion == 'fine_labels': # if only the fine patches are used \n",
    "        fine_X_idx = filtered_paths(image_paths, val_train_idxs) \n",
    "        fine_y_idx = filtered_paths(mask_paths, val_train_idxs) \n",
    "        \n",
    "        val_samples, fine_X_idx, fine_y_idx = get_n_training_samples(image_paths,\n",
    "                           mask_paths,\n",
    "                           fine_X_idx, \n",
    "                           number_training_patchs)\n",
    "\n",
    "        X_train, X_val, y_train, y_val = train_test_split(fine_X_idx, fine_y_idx, test_size=val_samples, random_state=42, shuffle=True) \n",
    "\n",
    "    return X_train, y_train, X_val, y_val, X_test, y_test"
   ]
  },
  {
   "cell_type": "code",
   "execution_count": 19,
   "metadata": {},
   "outputs": [],
   "source": [
    "# Read file \n",
    "geo_df = gpd.read_file(FILTER_PATH) # contains the idxs with a selection of non-noisy and noisy data\n",
    "\n",
    "# Define the filters \n",
    "filters = {'non_veg_idxs' : geo_df.query(\"status == 0\")['index'],\n",
    "       'veg_idxs' :  geo_df.query(\"status == 1\")['index'], \n",
    "       'mixed': geo_df.query(\"status == 2\")['index'], \n",
    "       'single_trees_idx' : geo_df.query(\"status == 3\")['index'], \n",
    "       'hedgerows' : geo_df.query(\"status == 4\")['index'], \n",
    "       'coarse_to_very_coarse': geo_df.query(\"status == 5\")['index'][5:]}\n",
    "\n",
    "# fix bug of the test_size\n",
    "data_portion = 'fine_labels' # ['coarse_plus_fine_labels', 'fine_labels', 'coarse_labels']\n",
    "n_patches = 20\n",
    "\n",
    "X_train, y_train, X_val, y_val, X_test, y_test = custom_split(filters, test_size=40, \n",
    "                                                                   image_paths=image_paths, \n",
    "                                                                   mask_paths=mask_paths,  \n",
    "                                                                   data_portion=data_portion,\n",
    "                                                                   DEST_PATH = TEST_DATASET_PATH,\n",
    "                                                                   number_training_patchs=n_patches)"
   ]
  },
  {
   "cell_type": "code",
   "execution_count": 6,
   "metadata": {},
   "outputs": [],
   "source": [
    "# idxs = [utis.get_file_index(file) for file in X_train]\n",
    "# idd = '765' #1927 in val and 765\n",
    "# idx = idxs.index(idd) #1927\n",
    "\n",
    "# img = cv2.imread(X_train[idx], cv2.IMREAD_GRAYSCALE)\n",
    "# msk = cv2.imread(y_train[idx], cv2.IMREAD_GRAYSCALE)\n",
    "\n",
    "# fig, ax = plt.subplots(1,2, figsize=(10,10),  sharey=True)\n",
    "# plt.gray()\n",
    "# ax[0].imshow(img)\n",
    "# ax[0].set_title(f'Original image - ID {idd}')\n",
    "# ax[1].imshow(msk)\n",
    "# ax[1].set_title(f'Coarse image - ID {idd}')"
   ]
  },
  {
   "cell_type": "markdown",
   "metadata": {},
   "source": [
    "### Dataloader"
   ]
  },
  {
   "cell_type": "code",
   "execution_count": 7,
   "metadata": {},
   "outputs": [
    {
     "name": "stdout",
     "output_type": "stream",
     "text": [
      "shape train image torch.Size([1, 256, 256]) shape train mask torch.Size([256, 256])\n",
      "Training set size:  20\n",
      "Validation set size:  6\n",
      "Testing set size:  10\n"
     ]
    }
   ],
   "source": [
    "# Define transformations\n",
    "val_transform = A.Compose(\n",
    "    [A.Normalize(mean=(0.512), std=(0.167)),\n",
    "    ToTensorV2()])\n",
    "\n",
    "train_transform = A.Compose([\n",
    "      A.Rotate(limit=40,p=0.9, border_mode=cv2.BORDER_CONSTANT), # p stands for the probability with which the transformations are applied\n",
    "      A.HorizontalFlip(p=0.9),\n",
    "      A.VerticalFlip(p=0.9), \n",
    "      A.Transpose(p=0.9),\n",
    "      A.CLAHE(p=1),\n",
    "      A.Normalize(mean=(0.512), std=(0.167)),\n",
    "      ToTensorV2()])\n",
    "\n",
    "# Datasets\n",
    "train_dataset = HistoricalImagesDataset(X_train, y_train, transform=train_transform, split_type=None)\n",
    "val_dataset = HistoricalImagesDataset(X_val, y_val, transform=val_transform, split_type=None)\n",
    "test_dataset = HistoricalImagesDataset(X_test, y_test, transform=val_transform, split_type='test')\n",
    "\n",
    "data = next(iter(train_dataset))\n",
    "print('shape train image', data[0].shape, 'shape train mask', data[1].shape) \n",
    "\n",
    "# Dataloader\n",
    "print(\"Training set size: \", len(train_dataset))\n",
    "train_dataloader = DataLoader(dataset=train_dataset, batch_size = config.BATCH_SIZE, shuffle=True)\n",
    "print(\"Validation set size: \", len(val_dataset))\n",
    "val_dataloader = DataLoader(dataset=val_dataset, batch_size = config.BATCH_SIZE, shuffle=True)\n",
    "\n",
    "print(\"Testing set size: \", len(test_dataset))\n",
    "test_dataloader = DataLoader(dataset=test_dataset, batch_size = 1)"
   ]
  },
  {
   "cell_type": "code",
   "execution_count": 8,
   "metadata": {},
   "outputs": [],
   "source": [
    "# def clahe_equalized(img: np.array) -> np.array: # this step should be before\n",
    "#     ''' Apply CLAHE equalization'''\n",
    "#     # np_img= np.asarray(img)\n",
    "#     clahe = cv2.createCLAHE(clipLimit = 4.5, tileGridSize=(8, 8))\n",
    "#     return clahe.apply(img)\n",
    "\n",
    "\n",
    "# img = cv2.imread(X_test[15], cv2.IMREAD_GRAYSCALE)\n",
    "# clahe_img = clahe_equalized(img)\n",
    "# plt.gray()\n",
    "# fig, ax = plt.subplots(1,2, figsize=(10,10),  sharey=True)\n",
    "# ax[0].imshow(img)\n",
    "# ax[0].set_title('Original image')\n",
    "# ax[1].imshow(clahe_img)\n",
    "# ax[1].set_title('CLAHE image')"
   ]
  },
  {
   "cell_type": "code",
   "execution_count": 9,
   "metadata": {},
   "outputs": [
    {
     "data": {
      "image/png": "[encoded data removed]",
      "text/plain": [
       "<Figure size 1440x1440 with 10 Axes>"
      ]
     },
     "metadata": {
      "needs_background": "light"
     },
     "output_type": "display_data"
    }
   ],
   "source": [
    "# Plot\n",
    "n_col = 5\n",
    "n_row = int(len(y_test)/n_col)\n",
    "\n",
    "_, axs = plt.subplots(n_row, n_col, figsize=(20,20), sharex=True, sharey=True)\n",
    "axs = axs.flatten()\n",
    "cmap = cm.get_cmap('gray')\n",
    "random.Random(4).shuffle(y_test)\n",
    "random.Random(4).shuffle(X_test)\n",
    "\n",
    "for c, (i, ax) in enumerate(zip(y_test, axs)):\n",
    "    img = cv2.imread(i, cv2.IMREAD_GRAYSCALE)\n",
    "    ax.imshow(img, cmap=cmap, vmin=0)\n",
    "    ax.set_title(f'idx: {utis.get_file_index(i)}, {np.unique(img)}')\n",
    "plt.show()"
   ]
  },
  {
   "cell_type": "code",
   "execution_count": 10,
   "metadata": {},
   "outputs": [
    {
     "data": {
      "image/svg+xml": [
       "<svg class=\"main-svg\" xmlns=\"http://www.w3.org/2000/svg\" xmlns:xlink=\"http://www.w3.org/1999/xlink\" width=\"700\" height=\"500\" style=\"\" viewBox=\"0 0 700 500\"><rect x=\"0\" y=\"0\" width=\"700\" height=\"500\" style=\"fill: rgb(255, 255, 255); fill-opacity: 1;\"/><defs id=\"defs-b3a53b\"><g class=\"clips\"/><g class=\"gradients\"/><g class=\"patterns\"/></defs><g class=\"bglayer\"/><g class=\"layer-below\"><g class=\"imagelayer\"/><g class=\"shapelayer\"/></g><g class=\"cartesianlayer\"/><g class=\"polarlayer\"/><g class=\"smithlayer\"/><g class=\"ternarylayer\"/><g class=\"geolayer\"/><g class=\"funnelarealayer\"/><g class=\"pielayer\"><g class=\"trace\" stroke-linejoin=\"round\" style=\"opacity: 1;\"><g class=\"slice\"><path class=\"surface\" d=\"M350,260l0,-160a160,160 0 1 1 -98.5434385740735,286.0523332350409Z\" style=\"pointer-events: all; stroke-width: 0; fill: rgb(0, 104, 55); fill-opacity: 1; stroke: rgb(68, 68, 68); stroke-opacity: 1;\"/><g class=\"slicetext\"><text data-notex=\"1\" class=\"slicetext\" transform=\"translate(425.6376008655802,290.0567330127777)\" text-anchor=\"middle\" x=\"0\" y=\"0\" style=\"font-family: 'Open Sans', verdana, arial, sans-serif; font-size: 12px; fill: rgb(255, 255, 255); fill-opacity: 1; white-space: pre;\">60.6%</text></g></g><g class=\"slice\"><path class=\"surface\" d=\"M350,260l-98.54343857407355,126.05233323504092a160,160 0 0 1 98.54343857407355,-286.0523332350409Z\" style=\"pointer-events: all; stroke-width: 0; fill: rgb(26, 152, 80); fill-opacity: 1; stroke: rgb(68, 68, 68); stroke-opacity: 1;\"/><g class=\"slicetext\"><text data-notex=\"1\" class=\"slicetext\" transform=\"translate(272.2423368698352,237.21291732294722)\" text-anchor=\"middle\" x=\"0\" y=\"0\" style=\"font-family: 'Open Sans', verdana, arial, sans-serif; font-size: 12px; fill: rgb(255, 255, 255); fill-opacity: 1; white-space: pre;\">39.4%</text></g></g></g></g><g class=\"iciclelayer\"/><g class=\"treemaplayer\"/><g class=\"sunburstlayer\"/><g class=\"glimages\"/><defs id=\"topdefs-b3a53b\"><g class=\"clips\"/><clipPath id=\"legendb3a53b\"><rect width=\"103\" height=\"48\" x=\"0\" y=\"0\"/></clipPath></defs><g class=\"layer-above\"><g class=\"imagelayer\"/><g class=\"shapelayer\"/></g><g class=\"infolayer\"><g class=\"legend\" pointer-events=\"all\" transform=\"translate(571,164)\"><rect class=\"bg\" shape-rendering=\"crispEdges\" style=\"stroke: rgb(68, 68, 68); stroke-opacity: 1; fill: rgb(255, 255, 255); fill-opacity: 1; stroke-width: 0px;\" width=\"103\" height=\"48\" x=\"0\" y=\"0\"/><g class=\"scrollbox\" transform=\"\" clip-path=\"url(#legendb3a53b)\"><g class=\"groups\"><g class=\"traces\" transform=\"translate(0,14.5)\" style=\"opacity: 1;\"><text class=\"legendtext\" text-anchor=\"start\" x=\"40\" y=\"4.680000000000001\" style=\"font-family: 'Open Sans', verdana, arial, sans-serif; font-size: 12px; fill: rgb(42, 63, 95); fill-opacity: 1; white-space: pre;\">non-trees</text><g class=\"layers\" style=\"opacity: 1;\"><g class=\"legendfill\"/><g class=\"legendlines\"/><g class=\"legendsymbols\"><g class=\"legendpoints\"><path class=\"legendpie\" d=\"M6,6H-6V-6H6Z\" transform=\"translate(20,0)\" style=\"stroke-width: 0; fill: rgb(0, 104, 55); fill-opacity: 1; stroke: rgb(68, 68, 68); stroke-opacity: 1;\"/></g></g></g><rect class=\"legendtoggle\" x=\"0\" y=\"-9.5\" width=\"97.28125\" height=\"19\" style=\"fill: rgb(0, 0, 0); fill-opacity: 0;\"/></g><g class=\"traces\" transform=\"translate(0,33.5)\" style=\"opacity: 1;\"><text class=\"legendtext\" text-anchor=\"start\" x=\"40\" y=\"4.680000000000001\" style=\"font-family: 'Open Sans', verdana, arial, sans-serif; font-size: 12px; fill: rgb(42, 63, 95); fill-opacity: 1; white-space: pre;\">trees</text><g class=\"layers\" style=\"opacity: 1;\"><g class=\"legendfill\"/><g class=\"legendlines\"/><g class=\"legendsymbols\"><g class=\"legendpoints\"><path class=\"legendpie\" d=\"M6,6H-6V-6H6Z\" transform=\"translate(20,0)\" style=\"stroke-width: 0; fill: rgb(26, 152, 80); fill-opacity: 1; stroke: rgb(68, 68, 68); stroke-opacity: 1;\"/></g></g></g><rect class=\"legendtoggle\" x=\"0\" y=\"-9.5\" width=\"97.28125\" height=\"19\" style=\"fill: rgb(0, 0, 0); fill-opacity: 0;\"/></g></g></g><rect class=\"scrollbar\" rx=\"20\" ry=\"3\" width=\"0\" height=\"0\" style=\"fill: rgb(128, 139, 164); fill-opacity: 1;\" x=\"0\" y=\"0\"/></g><g class=\"g-gtitle\"><text class=\"gtitle\" x=\"35\" y=\"50\" text-anchor=\"start\" dy=\"0em\" style=\"font-family: 'Open Sans', verdana, arial, sans-serif; font-size: 17px; fill: rgb(42, 63, 95); opacity: 1; font-weight: normal; white-space: pre;\">Percentage of trees and non-trees in the Test dataset</text></g></g></svg>"
      ]
     },
     "metadata": {},
     "output_type": "display_data"
    }
   ],
   "source": [
    "utis.plot_pizza(y_train, title='Test dataset')"
   ]
  },
  {
   "cell_type": "markdown",
   "metadata": {},
   "source": [
    "### Check if CUDA is available"
   ]
  },
  {
   "cell_type": "code",
   "execution_count": 11,
   "metadata": {},
   "outputs": [
    {
     "data": {
      "text/plain": [
       "'cuda'"
      ]
     },
     "execution_count": 11,
     "metadata": {},
     "output_type": "execute_result"
    }
   ],
   "source": [
    "config.DEVICE"
   ]
  },
  {
   "cell_type": "markdown",
   "metadata": {
    "jp-MarkdownHeadingCollapsed": true,
    "tags": []
   },
   "source": [
    "### Training and Validating"
   ]
  },
  {
   "cell_type": "code",
   "execution_count": 12,
   "metadata": {},
   "outputs": [],
   "source": [
    "def train(model, dataloader, optim, lossFunc, epoch, scaler):\n",
    "    # set the model in training mode\n",
    "    model.train()\n",
    "\n",
    "    # Save total train loss\n",
    "    totalTrainLoss = 0\n",
    "    \n",
    "    # metrics\n",
    "    accuracy = 0\n",
    "    iou = 0\n",
    "    f1score = 0\n",
    "    dice = 0\n",
    "    \n",
    "    # loop over the training set\n",
    "    loop = tqdm(dataloader, leave=False)\n",
    "    for x, y in loop:\n",
    "        # send the input to the device\n",
    "        (x, y) = (x.to(config.DEVICE), y.float().to(config.DEVICE))\n",
    "        \n",
    "        # forward with autocast        \n",
    "        with autocast():\n",
    "            pred = model(x)\n",
    "            loss = lossFunc(pred, y)\n",
    "            \n",
    "        optim.zero_grad()  # zero out any previously accumulated gradients    \n",
    "        scaler.scale(loss).backward() # study this \n",
    "        scaler.step(optim)\n",
    "        scaler.update()\n",
    "        \n",
    "#         # perform a forward pass and calculate the training loss\n",
    "#         pred = model(x)\n",
    "#         loss = lossFunc(pred, y)\n",
    "        \n",
    "#         opt.zero_grad()  # zero out any previously accumulated gradients\n",
    "#         loss.backward() # obtain the gradients with respect to the loss\n",
    "#         opt.step() # perform one step of gradient descendent\n",
    "        \n",
    "        totalTrainLoss += loss  # add the loss to the total training loss so far \n",
    "        \n",
    "        # metrics      \n",
    "        all_metrics = metrics.metrics(pred, y)\n",
    "        accuracy += all_metrics['acc']\n",
    "        iou += all_metrics['iou']\n",
    "        f1score += all_metrics['f1score']\n",
    "        dice += all_metrics['dice_coeff']\n",
    "        \n",
    "        # update tqdm\n",
    "        loop.set_description(f'Training Epoch [{epoch}/{config.NUM_EPOCHS}]')\n",
    "        loop.set_postfix(loss=loss.item(), acc = all_metrics['acc'], iou=all_metrics['iou'], dice = all_metrics['dice_coeff'])\n",
    "        \n",
    "    # calculate the average training loss PER EPOCH\n",
    "    avgTrainLoss = totalTrainLoss / len(dataloader)\n",
    "    avgAccLoss = accuracy / len(dataloader)\n",
    "    avgIOU = iou / len(dataloader)\n",
    "    avgF1score = f1score / len(dataloader)\n",
    "    avgDice = dice / len(dataloader)\n",
    "    \n",
    "    ## update training history\n",
    "    training_history[\"avg_train_loss\"].append(avgTrainLoss.cpu().detach().numpy()) # save the avg loss\n",
    "    training_history[\"train_accuracy\"].append(avgAccLoss) # save the acc \n",
    "    training_history[\"IoU\"].append(avgIOU) # save the acc \n",
    "    \n",
    "    # WANDB\n",
    "    # wandb.log({\n",
    "    # # \"Examples\": example_images,\n",
    "    # \"Train Loss\": avgTrainLoss,\n",
    "    # \"Train Accuracy\": avgAccLoss,\n",
    "    # \"IoU_train\":avgIOU})\n",
    "    \n",
    "    return training_history"
   ]
  },
  {
   "cell_type": "code",
   "execution_count": 13,
   "metadata": {},
   "outputs": [],
   "source": [
    "def validation(model, dataloader, lossFunc, epoch):\n",
    "    \n",
    "    # set the model in evaluation mode\n",
    "    model.eval()\n",
    "    # Save total train loss\n",
    "    totalValLoss = 0\n",
    "    \n",
    "    # metrics\n",
    "    accuracy_val = 0\n",
    "    iou_val = 0\n",
    "    f1score_val = 0\n",
    "    \n",
    "    # switch off autograd\n",
    "    example_pred = []\n",
    "    example_gt = []\n",
    "    \n",
    "    with torch.no_grad():\n",
    "        # loop over the validation set\n",
    "        loop = tqdm(dataloader, leave=False)\n",
    "        \n",
    "        for batch_idx, (x_val, y_val) in enumerate(loop):\n",
    "            # send the input to the device\n",
    "            (x_val, y_val) = (x_val.to(config.DEVICE), y_val.to(config.DEVICE))\n",
    "            \n",
    "            # make the predictions and calculate the validation loss\n",
    "            pred_val = model(x_val)\n",
    "            loss = lossFunc(pred_val, y_val)\n",
    "            totalValLoss += loss\n",
    "            \n",
    "            # metrics      \n",
    "            all_metrics = metrics.metrics(pred_val, y_val)\n",
    "            accuracy_val += all_metrics['acc']\n",
    "            iou_val += all_metrics['iou']\n",
    "            f1score_val += all_metrics['f1score']\n",
    "\n",
    "            # WandB – Log images in your test dataset automatically, along with predicted and true labels by passing pytorch tensors with image data into wandb.Image\n",
    "            # example_pred.append(wandb.Image(pred_val[0], caption=f\"pred_iter_n_{batch_idx}\"))\n",
    "            # example_gt.append(wandb.Image(y_val[0].float(), caption=f\"gt_iter_n_{batch_idx}\"))\n",
    "            \n",
    "            # update tqdm\n",
    "            loop.set_description(f'Validation Epoch [{epoch}/{config.NUM_EPOCHS}]')\n",
    "            loop.set_postfix(loss_val=loss.item(), acc_val = all_metrics['acc'], iou_val=all_metrics['iou'])\n",
    "                        \n",
    "    # calculate the average VALIDATION loss PER EPOCH\n",
    "    avgValLoss = totalValLoss / len(dataloader)\n",
    "    avgAccLoss = accuracy_val / len(dataloader)\n",
    "    avgIOU = iou_val / len(dataloader)\n",
    "    avgF1score = f1score_val / len(dataloader)\n",
    "\n",
    "    ## update VALIDATION history\n",
    "    validation_history[\"avg_val_loss\"].append(avgValLoss.cpu().detach().numpy()) # save the avg loss\n",
    "    validation_history[\"val_accuracy\"].append(avgAccLoss) # save the acc\n",
    "    validation_history[\"IoU_val\"].append(avgIOU) # save the acc\n",
    "    \n",
    "    # WANDB\n",
    "    # wandb.log({\n",
    "    # \"Predictions\": example_pred,\n",
    "    # \"GT\": example_gt,\n",
    "    # \"Val Accuracy\": avgAccLoss,\n",
    "    # \"Val Loss\": avgValLoss,\n",
    "    # \"IoU_val\": avgIOU})\n",
    "    \n",
    "    return validation_history"
   ]
  },
  {
   "cell_type": "markdown",
   "metadata": {
    "tags": []
   },
   "source": [
    "### MAIN"
   ]
  },
  {
   "cell_type": "code",
   "execution_count": 14,
   "metadata": {},
   "outputs": [
    {
     "name": "stdout",
     "output_type": "stream",
     "text": [
      "Training the network for 10 epochs, with a batch size of 16\n"
     ]
    },
    {
     "name": "stderr",
     "output_type": "stream",
     "text": [
      "                                                                                                         \r"
     ]
    }
   ],
   "source": [
    "# WandB – Initialize a new run\n",
    "# wandb.init(entity=\"vibferreira\", project=\"master_thesis\")\n",
    "\n",
    "# classes\n",
    "classes = ('no_vegetation', 'vegetation')\n",
    "\n",
    "# Initialize model\n",
    "unet = model.unet_model.to(config.DEVICE)\n",
    "\n",
    "# initialize loss function and optimizer\n",
    "lossFunc = smp.losses.DiceLoss(smp.losses.BINARY_MODE, from_logits=True)\n",
    "\n",
    "opt = optim.Adam(unet.parameters(), lr=config.LR)\n",
    "# opt = optim.SGD(unet.parameters(), lr=config.LR, momentum=0.95, weight_decay=0.01)\n",
    "scheduler = ReduceLROnPlateau(opt, mode='max', factor=0.1, patience=10, verbose=True)\n",
    "\n",
    "# initialize a dictionary to store TRAINING history (keep track on training)\n",
    "training_history = {\"avg_train_loss\": [], \"train_accuracy\": [], \"IoU\":[],\"f1score\":[], \"avgDice\":[]}\n",
    "\n",
    "# # initialize a dictionary to store VALIDATION history (keep track on VALIDATION)\n",
    "validation_history = {\"avg_val_loss\": [], \"val_accuracy\": [], \"IoU_val\":[], \"f1score_val\":[]}\n",
    "\n",
    "# Using log=\"all\" log histograms of parameter values in addition to gradients\n",
    "# wandb.watch(unet, log=\"all\")\n",
    "\n",
    "# Autocasting \n",
    "scaler = GradScaler()\n",
    "\n",
    "# initialize best accuracy\n",
    "best_accuracy = 0.0\n",
    "print(f'''Training the network for {config.NUM_EPOCHS} epochs, with a batch size of {config.BATCH_SIZE}''') # try with logger\n",
    "\n",
    "# loop = tqdm(range(config.NUM_EPOCHS))\n",
    "iter_ = 0\n",
    "for e in range(config.NUM_EPOCHS):\n",
    "    trained = train(unet, train_dataloader, opt, lossFunc, epoch=e, scaler=scaler)\n",
    "    validated = validation(unet, val_dataloader, lossFunc, epoch=e)\n",
    "    # scheduler.step(validated['IoU_val'][-1])\n",
    "    \n",
    "    # # Save best model\n",
    "    # if validated['IoU_val'][-1] > best_accuracy and e > 10: # maybe add a minimum number of epochs as conditions\n",
    "    #     utis.save_best_model(unet, BEST_MODEL, validated, e, data_portion, rate_of_coarse_labels=n_patches)\n",
    "    #     best_accuracy = validation_history['IoU_val'][-1]"
   ]
  },
  {
   "cell_type": "code",
   "execution_count": 15,
   "metadata": {},
   "outputs": [
    {
     "data": {
      "image/png": "[encoded data removed]",
      "text/plain": [
       "<Figure size 1080x360 with 2 Axes>"
      ]
     },
     "metadata": {
      "needs_background": "light"
     },
     "output_type": "display_data"
    }
   ],
   "source": [
    "_, ax = plt.subplots(1, 2, figsize=(15,5))\n",
    "ax[0].plot(training_history['avg_train_loss'], label= 'train')\n",
    "ax[0].plot(validation_history['avg_val_loss'], label='val')\n",
    "ax[0].set_title('Loss')\n",
    "ax[0].legend()\n",
    "ax[1].plot(training_history['IoU'], label= 'train')\n",
    "ax[1].plot(validation_history['IoU_val'], label='val')\n",
    "ax[1].set_title('IOU')\n",
    "ax[1].legend()\n",
    "plt.show()"
   ]
  },
  {
   "cell_type": "markdown",
   "metadata": {},
   "source": [
    "### Predictions"
   ]
  },
  {
   "cell_type": "code",
   "execution_count": 45,
   "metadata": {},
   "outputs": [],
   "source": [
    "DEST_PATH = TEST_DATASET_PATH\n",
    "list_of_imgs = X_test\n",
    "\n",
    "def get_coords (image_list:list) -> dict:\n",
    "    '''\n",
    "    Return the rasterio profile of the images\n",
    "    Args:\n",
    "    image_list (list) : list of image paths\n",
    "    Returns:\n",
    "    coords (dict) : rasterio profile with image id\n",
    "    '''\n",
    "    coords = {}\n",
    "    for img in image_list:\n",
    "        # and its respective id\n",
    "        ids = get_file_index(img)\n",
    "\n",
    "        # get the profile of the patches\n",
    "        with rio.open(img) as src:\n",
    "            ras_data = src.read().astype('uint8')\n",
    "            profile = src.profile # get the original image profile\n",
    "\n",
    "        # save in a dict\n",
    "        coords.update([(ids, profile)])\n",
    "    return coords\n",
    "\n",
    "def save_test_dataset(DEST_PATH:str,\n",
    "                      list_of_imgs:list) -> None:\n",
    "    \n",
    "    ''' Save the test dataset in a separate folder\n",
    "    Args:\n",
    "    DEST_PATH (str): destination folder\n",
    "    list_of_imgs(list): list of images to save'''\n",
    "    \n",
    "    coords = get_coords(X_test)\n",
    "    \n",
    "    # if not glob.glob(DEST_PATH +'/*.tif'):\n",
    "        #save test dataset on the folder\n",
    "    for img in list_of_imgs:\n",
    "        idx = utis.get_file_index(img)\n",
    "        with rio.open(img) as src:\n",
    "            data = src.read().astype('uint8')\n",
    "            profile = src.profile\n",
    "            \n",
    "        print(f'Saving dataset {DEST_PATH}/1942_{idx}.tif')\n",
    "        with rio.open(f'{DEST_PATH}/1942_{idx}.tif', 'w', **profile) as dst:\n",
    "            dst.write(np.squeeze(data), 1)     "
   ]
  },
  {
   "cell_type": "code",
   "execution_count": null,
   "metadata": {},
   "outputs": [],
   "source": []
  },
  {
   "cell_type": "code",
   "execution_count": 46,
   "metadata": {},
   "outputs": [
    {
     "name": "stdout",
     "output_type": "stream",
     "text": [
      "Saving dataset ../data/test_dataset/1942_1958.tif\n",
      "Saving dataset ../data/test_dataset/1942_1878.tif\n",
      "Saving dataset ../data/test_dataset/1942_2374.tif\n",
      "Saving dataset ../data/test_dataset/1942_2565.tif\n",
      "Saving dataset ../data/test_dataset/1942_2712.tif\n",
      "Saving dataset ../data/test_dataset/1942_57.tif\n",
      "Saving dataset ../data/test_dataset/1942_2094.tif\n",
      "Saving dataset ../data/test_dataset/1942_497.tif\n",
      "Saving dataset ../data/test_dataset/1942_604.tif\n",
      "Saving dataset ../data/test_dataset/1942_435.tif\n"
     ]
    }
   ],
   "source": [
    "save_test_dataset(TEST_DATASET_PATH, X_test)"
   ]
  },
  {
   "cell_type": "code",
   "execution_count": 24,
   "metadata": {},
   "outputs": [
    {
     "data": {
      "text/plain": [
       "['../data/patches/images/1942/1942_1958.tif',\n",
       " '../data/patches/images/1942/1942_1878.tif',\n",
       " '../data/patches/images/1942/1942_2374.tif',\n",
       " '../data/patches/images/1942/1942_2565.tif',\n",
       " '../data/patches/images/1942/1942_2712.tif',\n",
       " '../data/patches/images/1942/1942_57.tif',\n",
       " '../data/patches/images/1942/1942_2094.tif',\n",
       " '../data/patches/images/1942/1942_497.tif',\n",
       " '../data/patches/images/1942/1942_604.tif',\n",
       " '../data/patches/images/1942/1942_435.tif']"
      ]
     },
     "execution_count": 24,
     "metadata": {},
     "output_type": "execute_result"
    }
   ],
   "source": [
    "with rasterio.Env():\n",
    "\n",
    "    # Write an array as a raster band to a new 8-bit file. For\n",
    "    # the new file's profile, we start with the profile of the source\n",
    "    profile = src.profile\n",
    "\n",
    "    # And then change the band count to 1, set the\n",
    "    # dtype to uint8, and specify LZW compression.\n",
    "    profile.update(\n",
    "        dtype=rasterio.uint8,\n",
    "        count=1,\n",
    "        compress='lzw')\n",
    "\n",
    "    with rasterio.open('example.tif', 'w', **profile) as dst:\n",
    "        dst.write(array.astype(rasterio.uint8), 1)"
   ]
  },
  {
   "cell_type": "code",
   "execution_count": 17,
   "metadata": {},
   "outputs": [
    {
     "name": "stdout",
     "output_type": "stream",
     "text": [
      "../best_model/coarse_sizes/rate_285_coarse_labels_best_model_epoch_74_iou_0.924_acc_0.971.pth\n",
      "Saving patch_0_id_1958.tif\n",
      "Saving patch_1_id_1878.tif\n",
      "Saving patch_2_id_2374.tif\n",
      "Saving patch_3_id_2565.tif\n",
      "Saving patch_4_id_2712.tif\n",
      "Saving patch_5_id_57.tif\n",
      "Saving patch_6_id_2094.tif\n",
      "Saving patch_7_id_497.tif\n",
      "Saving patch_8_id_604.tif\n",
      "Saving patch_9_id_435.tif\n"
     ]
    }
   ],
   "source": [
    "# set the model in evaluation model\n",
    "BEST_MODEL = '../best_model/coarse_sizes/'\n",
    "best_iou_model = glob.glob(BEST_MODEL + '/*.pth')[3]\n",
    "# best_iou_model = [i for i in best_iou_model if i.startswith(data_portion, 14)][0]\n",
    "print(best_iou_model)\n",
    "folder = '../saved_images'\n",
    "\n",
    "model_ = model.unet_model.to(config.DEVICE)\n",
    "model_.load_state_dict(torch.load(best_iou_model))\n",
    "\n",
    "y_hat, y_true, y_score = train_val_test.make_predictions(model_, test_dataloader, X_test, folder, print_pred=False, save_patches=True)"
   ]
  },
  {
   "cell_type": "code",
   "execution_count": null,
   "metadata": {},
   "outputs": [],
   "source": [
    "labels = [0,1]\n",
    "target_names = ['Non-veg', 'Veg']\n",
    "metrics.cm_analysis(y_true, y_hat, labels, target_names)"
   ]
  },
  {
   "cell_type": "code",
   "execution_count": null,
   "metadata": {},
   "outputs": [],
   "source": [
    "# rates = [20, 50, 100, 150, 200, 250, 285]\n",
    "\n",
    "# # COARSE MODELS\n",
    "# folder = '../saved_images'\n",
    "# BEST_MODEL_COARSE = '../best_model/coarse_sizes'\n",
    "# best_iou_model_coarse = glob.glob(BEST_MODEL_COARSE + '/*.pth')\n",
    "# best_iou_model_coarse = sorted(best_iou_model_coarse, key= lambda x: int(re.split(r\"[/_.]\\s*\", x)[8])) # sort files based on the number of patches\n",
    "\n",
    "# # FINE MODELS\n",
    "# BEST_MODEL_FINE = '../best_model/fine_sizes'\n",
    "# best_iou_model_fine = glob.glob(BEST_MODEL_FINE + '/*.pth')\n",
    "# best_iou_model_fine = sorted(best_iou_model_fine, key= lambda x: int(re.split(r\"[/_.]\\s*\", x)[8])) # sort files based on the number of patches\n",
    "  \n",
    "# iou_coarse = utis.iou_on_test_dataset(best_iou_model_coarse, rates, test_dataloader, X_test, folder)\n",
    "# iou_fine = utis.iou_on_test_dataset(best_iou_model_fine, rates, test_dataloader, X_test, folder)\n",
    "\n",
    "# plt.figure(figsize=(10,10))\n",
    "# plt.plot(iou_coarse.keys(),  iou_coarse.values(), label='coarse', marker='o')\n",
    "# plt.plot(iou_fine.keys(),  iou_fine.values(), label = 'fine', marker='o')\n",
    "# plt.legend()\n",
    "# plt.xlabel('NUMBER OF PATCHES')\n",
    "# plt.ylabel('IOU')\n",
    "# plt.title(f'COARSE DATASET X FINE DATASET')\n",
    "# plt.show()"
   ]
  },
  {
   "cell_type": "code",
   "execution_count": null,
   "metadata": {},
   "outputs": [],
   "source": [
    "# # WandB – Initialize a new run\n",
    "# # wandb.init(entity=\"vibferreira\", project=\"master_thesis\")\n",
    "\n",
    "# # set the model in evaluation model\n",
    "# data_portion= 'coarse_labels'\n",
    "# BEST_MODEL = '../best_model'\n",
    "# best_iou_model = glob.glob(BEST_MODEL + '/*.pth')\n",
    "# best_iou_model = [i for i in best_iou_model if i.startswith(data_portion, 14)][0]\n",
    "# print(best_iou_model)\n",
    "# folder = '../saved_images'\n",
    "\n",
    "# # load the model \n",
    "# model_ = model.unet_model.to(config.DEVICE)\n",
    "# model_.load_state_dict(torch.load(best_iou_model))\n",
    "\n",
    "# y_hat, y_true, y_score = train_val_test.make_predictions(model_, test_dataloader, X_test, folder)"
   ]
  },
  {
   "cell_type": "code",
   "execution_count": null,
   "metadata": {},
   "outputs": [],
   "source": [
    "# # set the model in evaluation model\n",
    "# BEST_MODEL = '../best_model'\n",
    "# best_iou_model = glob.glob(BEST_MODEL + '/*.pth')\n",
    "# best_iou_model.sort()\n",
    "# portions = ['coarse_plus_fine_labels', 'coarse_labels', 'fine_labels']\n",
    "# portions.sort()\n",
    "# folder = '../saved_images'\n",
    "\n",
    "# for i, p in zip(best_iou_model, portions):\n",
    "#     # load the model \n",
    "#     model_ = model.unet_model.to(config.DEVICE)\n",
    "#     model_.load_state_dict(torch.load(i))\n",
    "    \n",
    "#     y_hat, y_true, y_score = train_val_test.make_predictions(model_, test_dataloader, X_test, folder, print_pred=False)\n",
    "#     y_hat, y_true, y_score = y_hat.detach().cpu().numpy(), y_true.detach().cpu().numpy(), y_score.detach().cpu().numpy()\n",
    "    \n",
    "#     fpr, tpr, thresholds = roc_curve(y_true, y_score)\n",
    "#     roc_auc = auc(fpr, tpr)\n",
    "\n",
    "#     lw = 2\n",
    "#     plt.plot([0, 1], [0, 1], color='navy', linestyle='--', alpha=0.15)\n",
    "#     plt.plot(fpr, tpr, lw=lw, label=f'{p} (area = {roc_auc: 0.4f})')\n",
    "\n",
    "#     plt.xlabel('Specificity - False Positive Rate')\n",
    "#     plt.ylabel('Sensitivity - True Positive Rate')\n",
    "#     plt.title(f'ROC')\n",
    "#     plt.legend(loc=\"lower right\")"
   ]
  }
 ],
 "metadata": {
  "interpreter": {
   "hash": "5176260fbc2cf1b78dfea4cc2edeb44537a6fdfe3203945a451ce281e8b97dc2"
  },
  "kernelspec": {
   "display_name": "torch_env",
   "language": "python",
   "name": "torch_env"
  },
  "language_info": {
   "codemirror_mode": {
    "name": "ipython",
    "version": 3
   },
   "file_extension": ".py",
   "mimetype": "text/x-python",
   "name": "python",
   "nbconvert_exporter": "python",
   "pygments_lexer": "ipython3",
   "version": "3.9.7"
  }
 },
 "nbformat": 4,
 "nbformat_minor": 4
}
