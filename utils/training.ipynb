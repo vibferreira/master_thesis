{
 "cells": [
  {
   "cell_type": "code",
   "execution_count": 1,
   "metadata": {},
   "outputs": [],
   "source": [
    "from tqdm import tqdm\n",
    "import numpy as np\n",
    "import os\n",
    "\n",
    "import cv2\n",
    "import albumentations as A\n",
    "\n",
    "import torch\n",
    "import torch.nn as nn\n",
    "import torch.optim as optim\n",
    "from torch.nn import BCEWithLogitsLoss\n",
    "import torch.nn.functional as F\n",
    "from torch.cuda.amp import GradScaler, autocast\n",
    "import segmentation_models_pytorch as smp\n",
    "from torchvision.utils import make_grid, save_image\n",
    "\n",
    "import model\n",
    "import metrics\n",
    "import config\n",
    "import utis\n",
    "\n",
    "import matplotlib.pyplot as plt\n",
    "\n",
    "from torch.utils.data import DataLoader, random_split\n",
    "from dataset import HistoricalImagesDataset\n",
    "import config\n",
    "import glob\n",
    "\n",
    "# Ignore excessive warnings\n",
    "import logging\n",
    "logging.propagate = False \n",
    "logging.getLogger().setLevel(logging.ERROR)\n",
    "\n",
    "# WandB – Import the wandb library\n",
    "import wandb\n",
    "\n",
    "import albumentations as A\n",
    "import albumentations.augmentations.functional as F\n",
    "from albumentations.pytorch import ToTensorV2"
   ]
  },
  {
   "cell_type": "code",
   "execution_count": 2,
   "metadata": {},
   "outputs": [],
   "source": [
    "# Paths\n",
    "IMAGES_PATH = '../data/patches/images/1942'\n",
    "MASK_PATH = '../data/patches/masks/1942'\n",
    "BEST_MODEL = '../best_model'\n",
    "# PREDICTIONS_PATH = \n",
    "\n",
    "image_paths = glob.glob(IMAGES_PATH +'/*.tif')\n",
    "mask_paths = glob.glob(MASK_PATH +'/*.tif')"
   ]
  },
  {
   "cell_type": "code",
   "execution_count": 3,
   "metadata": {},
   "outputs": [],
   "source": [
    "# IMAGES_PATH = '../data/images'\n",
    "# image_paths = glob.glob(IMAGES_PATH +'/*.tif')\n",
    "# image_paths\n",
    "\n",
    "# image = cv2.imread(image_paths[0], cv2.IMREAD_GRAYSCALE)\n",
    "# norm_image = cv2.normalize(image, None, alpha=0, beta=1, norm_type=cv2.NORM_MINMAX, dtype=cv2.CV_32F)\n",
    "# norm_image.std()"
   ]
  },
  {
   "cell_type": "markdown",
   "metadata": {},
   "source": [
    "### Weights and Biases"
   ]
  },
  {
   "cell_type": "code",
   "execution_count": 4,
   "metadata": {},
   "outputs": [
    {
     "name": "stdout",
     "output_type": "stream",
     "text": [
      "\u001b[34m\u001b[1mwandb\u001b[0m: Currently logged in as: \u001b[33mvibferreira\u001b[0m (use `wandb login --relogin` to force relogin)\n"
     ]
    }
   ],
   "source": [
    "!wandb login"
   ]
  },
  {
   "cell_type": "markdown",
   "metadata": {},
   "source": [
    "### Dataloader"
   ]
  },
  {
   "cell_type": "code",
   "execution_count": 5,
   "metadata": {},
   "outputs": [
    {
     "name": "stdout",
     "output_type": "stream",
     "text": [
      "shape train image torch.Size([1, 256, 256]) shape train mask torch.Size([256, 256])\n",
      "Training set size:  2400\n",
      "Validation set size:  542\n"
     ]
    }
   ],
   "source": [
    "# Split into train, val and test\n",
    "train_imgs = image_paths[:2400]\n",
    "val_imgs = image_paths[2400:2942]\n",
    "test_imgs = image_paths[2942:]\n",
    "\n",
    "train_masks = mask_paths[:2400]\n",
    "val_masks = mask_paths[2400:2942]\n",
    "test_masks = mask_paths[2942:]\n",
    "\n",
    "# Define transformations\n",
    "val_transform = A.Compose(\n",
    "    [A.Normalize(mean=(0.512), std=(0.167)),\n",
    "    ToTensorV2()])\n",
    "\n",
    "train_transform = A.Compose([\n",
    "      A.Rotate(limit=40,p=0.9, border_mode=cv2.BORDER_CONSTANT), # p stands for the probability with which the transformations are applied\n",
    "      A.HorizontalFlip(p=0.5),\n",
    "      A.VerticalFlip(p=0.1), \n",
    "      A.Transpose(p=0.5),\n",
    "      # A.CLAHE(p=0.8),\n",
    "      A.Normalize(mean=(0.512), std=(0.167)),\n",
    "      ToTensorV2()])\n",
    "\n",
    "# Datasets\n",
    "val_dataset = HistoricalImagesDataset(val_imgs , val_masks, transform=val_transform)\n",
    "train_dataset = HistoricalImagesDataset(train_imgs , train_masks, transform=train_transform)\n",
    "data = next(iter(train_dataset))\n",
    "print('shape train image', data[0].shape, 'shape train mask', data[1].shape) \n",
    "\n",
    "# Dataloader\n",
    "print(\"Training set size: \", len(train_dataset))\n",
    "train_dataloader = DataLoader(dataset=train_dataset, batch_size = config.BATCH_SIZE, shuffle=True)\n",
    "print(\"Validation set size: \", len(val_dataset))\n",
    "val_dataloader = DataLoader(dataset=val_dataset, batch_size = config.BATCH_SIZE, shuffle=True)\n",
    "\n",
    "# print(\"Testing set size: \", len(test_dataset))\n",
    "# test_dataloader = DataLoader(dataset=test_dataset, batch_size = config.BATCH_SIZE)"
   ]
  },
  {
   "cell_type": "code",
   "execution_count": 6,
   "metadata": {},
   "outputs": [],
   "source": [
    "# # Define the transformation\n",
    "\n",
    "# transform = A.Compose([\n",
    "#       A.Rotate(limit=40,p=0.9, border_mode=cv2.BORDER_CONSTANT), # p stands for the probability with which the transformations are applied\n",
    "#       A.HorizontalFlip(p=0.5),\n",
    "#       A.VerticalFlip(p=0.1), \n",
    "#       A.Normalize(mean=(0), std=(1)),\n",
    "#       ToTensorV2()])\n",
    "\n",
    "# # Dataset Object \n",
    "# print('Number of image patches:', len(image_paths),'\\nNumber of mask patches:', len(mask_paths))\n",
    "# dataset = HistoricalImagesDataset(image_paths, mask_paths, transform=transform)\n",
    "# data = next(iter(dataset))\n",
    "# print('shape image', data[0].shape, 'shape mask', data[1].shape)       \n",
    "\n",
    "# # Train, Test, Split -- DEVEOLP A SPLITTING STRATEGY BASED ON THE SPATIAL INFORMATION !!!!!!!!!\n",
    "# print('Splitting data into TRAIN, VAL and TEST')\n",
    "# train_size = int(0.5 * len(dataset))\n",
    "# test_size = len(dataset) - train_size\n",
    "# train_dataset, test_dataset = random_split(dataset, [train_size, test_size]) #-- pytorch alternative to the train_test_split command line from Scikit-Learn\n",
    "\n",
    "# train_size = int(0.5 * len(train_dataset))\n",
    "# val_size = len(train_dataset) - train_size\n",
    "# test_dataset, val_dataset = random_split(train_dataset, [train_size, val_size])\n",
    "\n",
    "# # DataLoader\n",
    "# print(\"Training set size: \", len(train_dataset))\n",
    "# train_dataloader = DataLoader(dataset=train_dataset, batch_size = config.BATCH_SIZE)\n",
    "# print(\"Validation set size: \", len(val_dataset))\n",
    "# val_dataloader = DataLoader(dataset=val_dataset, batch_size = config.BATCH_SIZE)\n",
    "# print(\"Testing set size: \", len(test_dataset))\n",
    "# test_dataloader = DataLoader(dataset=test_dataset, batch_size = config.BATCH_SIZE)"
   ]
  },
  {
   "cell_type": "code",
   "execution_count": 7,
   "metadata": {},
   "outputs": [],
   "source": [
    "val_dataloader_iter = iter(val_dataloader)\n",
    "# grids = utis.create_segement_grids(val_dataloader_iter)\n",
    "# utis.plot_grids(grids)"
   ]
  },
  {
   "cell_type": "code",
   "execution_count": 8,
   "metadata": {},
   "outputs": [
    {
     "data": {
      "text/plain": [
       "torch.Size([8, 1, 256, 256])"
      ]
     },
     "execution_count": 8,
     "metadata": {},
     "output_type": "execute_result"
    }
   ],
   "source": [
    "next(val_dataloader_iter)[0].shape"
   ]
  },
  {
   "cell_type": "markdown",
   "metadata": {},
   "source": [
    "### Check if CUDA is available"
   ]
  },
  {
   "cell_type": "code",
   "execution_count": 9,
   "metadata": {},
   "outputs": [
    {
     "data": {
      "text/plain": [
       "'cuda'"
      ]
     },
     "execution_count": 9,
     "metadata": {},
     "output_type": "execute_result"
    }
   ],
   "source": [
    "config.DEVICE"
   ]
  },
  {
   "cell_type": "markdown",
   "metadata": {},
   "source": [
    "### Training"
   ]
  },
  {
   "cell_type": "code",
   "execution_count": 10,
   "metadata": {},
   "outputs": [],
   "source": [
    "def train(model, dataloader, optim, lossFunc, epoch, scaler):\n",
    "    # set the model in training mode\n",
    "    model.train()\n",
    "\n",
    "    # Save total train loss\n",
    "    totalTrainLoss = 0\n",
    "    \n",
    "    # metrics\n",
    "    accuracy = 0\n",
    "    iou = 0\n",
    "    f1score = 0\n",
    "    dice = 0\n",
    "    \n",
    "    # loop over the training set\n",
    "    loop = tqdm(dataloader, leave=False)\n",
    "    for x, y in loop:\n",
    "        # send the input to the device\n",
    "        (x, y) = (x.to(config.DEVICE), y.float().to(config.DEVICE))\n",
    "        \n",
    "        # forward with autocast        \n",
    "        with autocast():\n",
    "            pred = model(x)\n",
    "            loss = lossFunc(pred, y)\n",
    "            \n",
    "        optim.zero_grad()  # zero out any previously accumulated gradients    \n",
    "        scaler.scale(loss).backward() # study this \n",
    "        scaler.step(optim)\n",
    "        scaler.update()\n",
    "        \n",
    "        totalTrainLoss += loss  # add the loss to the total training loss so far \n",
    "        \n",
    "        # metrics      \n",
    "        all_metrics = metrics.metrics(pred, y)\n",
    "        accuracy += all_metrics['acc']\n",
    "        iou += all_metrics['iou']\n",
    "        f1score += all_metrics['f1score']\n",
    "        dice += all_metrics['dice_coeff']\n",
    "        \n",
    "        # update tqdm\n",
    "        loop.set_description(f'Training Epoch [{epoch}/{config.NUM_EPOCHS}]')\n",
    "        loop.set_postfix(loss=loss.item(), acc = all_metrics['acc'], iou=all_metrics['iou'], dice = all_metrics['dice_coeff'])\n",
    "        \n",
    "    # calculate the average training loss PER EPOCH\n",
    "    avgTrainLoss = totalTrainLoss / len(dataloader)\n",
    "    avgAccLoss = accuracy / len(dataloader)\n",
    "    avgIOU = iou / len(dataloader)\n",
    "    avgF1score = f1score / len(dataloader)\n",
    "    avgDice = dice / len(dataloader)\n",
    "    \n",
    "    ## update training history\n",
    "    training_history[\"avg_train_loss\"].append(avgTrainLoss.cpu().detach().numpy()) # save the avg loss\n",
    "    training_history[\"train_accuracy\"].append(avgAccLoss) # save the acc \n",
    "    \n",
    "    # WANDB\n",
    "    wandb.log({\n",
    "    # \"Examples\": example_images,\n",
    "    \"Train Loss\": avgTrainLoss,\n",
    "    \"Train Accuracy\": avgAccLoss,\n",
    "    \"IoU_train\":avgIOU})\n",
    "    \n",
    "    return training_history"
   ]
  },
  {
   "cell_type": "code",
   "execution_count": 11,
   "metadata": {},
   "outputs": [],
   "source": [
    "def validation(model, dataloader, lossFunc, epoch):\n",
    "    \n",
    "    # set the model in evaluation mode\n",
    "    model.eval()\n",
    "    # Save total train loss\n",
    "    totalValLoss = 0\n",
    "    \n",
    "    # metrics\n",
    "    accuracy_val = 0\n",
    "    iou_val = 0\n",
    "    f1score_val = 0\n",
    "    \n",
    "    # switch off autograd\n",
    "    example_pred = []\n",
    "    example_gt = []\n",
    "    \n",
    "    with torch.no_grad():\n",
    "        # loop over the validation set\n",
    "        loop = tqdm(dataloader, leave=False)\n",
    "        \n",
    "        for batch_idx, (x_val, y_val) in enumerate(loop):\n",
    "            # send the input to the device\n",
    "            (x_val, y_val) = (x_val.to(config.DEVICE), y_val.to(config.DEVICE))\n",
    "            \n",
    "            # make the predictions and calculate the validation loss\n",
    "            pred_val = model(x_val)\n",
    "            loss = lossFunc(pred_val, y_val)\n",
    "            totalValLoss += loss\n",
    "            \n",
    "            # metrics      \n",
    "            all_metrics = metrics.metrics(pred_val, y_val)\n",
    "            accuracy_val += all_metrics['acc']\n",
    "            iou_val += all_metrics['iou']\n",
    "            f1score_val += all_metrics['f1score']\n",
    "            \n",
    "            # # Plotting Val \n",
    "            # if iter_  % 2 == 0: # plot every time iter is a multiple of 2\n",
    "            # utis.plot_comparison(x_val, pred_val, y_val)\n",
    "            # iter_ + 1\n",
    "\n",
    "            # WandB – Log images in your test dataset automatically, along with predicted and true labels by passing pytorch tensors with image data into wandb.Image\n",
    "            example_pred.append(wandb.Image(pred_val[0], caption=f\"pred_iter_n_{batch_idx}\"))\n",
    "            # print(y_val.shape)\n",
    "            example_gt.append(wandb.Image(y_val[0].float(), caption=f\"pred_iter_n_{batch_idx}\"))\n",
    "            \n",
    "            # update tqdm\n",
    "            loop.set_description(f'Validation Epoch [{epoch}/{config.NUM_EPOCHS}]')\n",
    "            loop.set_postfix(loss_val=loss.item(), acc_val = all_metrics['acc'], iou_val=all_metrics['iou'])\n",
    "                        \n",
    "    # calculate the average VALIDATION loss PER EPOCH\n",
    "    avgValLoss = totalValLoss / len(dataloader)\n",
    "    avgAccLoss = accuracy_val / len(dataloader)\n",
    "    avgIOU = iou_val / len(dataloader)\n",
    "    avgF1score = f1score_val / len(dataloader)\n",
    "\n",
    "    ## update VALIDATION history\n",
    "    validation_history[\"avg_val_loss\"].append(avgValLoss.cpu().detach().numpy()) # save the avg loss\n",
    "    validation_history[\"val_accuracy\"].append(avgAccLoss) # save the acc\n",
    "    validation_history[\"IoU_val\"].append(avgIOU) # save the acc\n",
    "    \n",
    "    # WANDB\n",
    "    wandb.log({\n",
    "    \"Predictions\": example_pred,\n",
    "    \"GT\": example_gt,\n",
    "    \"Val Accuracy\": avgAccLoss,\n",
    "    \"Val Loss\": avgValLoss,\n",
    "    \"IoU_val\": avgIOU})\n",
    "    \n",
    "    return validation_history"
   ]
  },
  {
   "cell_type": "markdown",
   "metadata": {},
   "source": [
    "### MAIN"
   ]
  },
  {
   "cell_type": "code",
   "execution_count": 12,
   "metadata": {},
   "outputs": [
    {
     "name": "stderr",
     "output_type": "stream",
     "text": [
      "\u001b[34m\u001b[1mwandb\u001b[0m: Currently logged in as: \u001b[33mvibferreira\u001b[0m (use `wandb login --relogin` to force relogin)\n"
     ]
    },
    {
     "data": {
      "text/html": [
       "Tracking run with wandb version 0.12.11"
      ],
      "text/plain": [
       "<IPython.core.display.HTML object>"
      ]
     },
     "metadata": {},
     "output_type": "display_data"
    },
    {
     "data": {
      "text/html": [
       "Run data is saved locally in <code>/share/mastoc/projects/erasmus/dl_historical_images/master_thesis/utils/wandb/run-20220329_183137-3tv5qpzh</code>"
      ],
      "text/plain": [
       "<IPython.core.display.HTML object>"
      ]
     },
     "metadata": {},
     "output_type": "display_data"
    },
    {
     "data": {
      "text/html": [
       "Syncing run <strong><a href=\"https://wandb.ai/vibferreira/master_thesis/runs/3tv5qpzh\" target=\"_blank\">dauntless-yogurt-272</a></strong> to <a href=\"https://wandb.ai/vibferreira/master_thesis\" target=\"_blank\">Weights & Biases</a> (<a href=\"https://wandb.me/run\" target=\"_blank\">docs</a>)<br/>"
      ],
      "text/plain": [
       "<IPython.core.display.HTML object>"
      ]
     },
     "metadata": {},
     "output_type": "display_data"
    },
    {
     "name": "stdout",
     "output_type": "stream",
     "text": [
      "Training the network for 2 epochs, with a batch size of 8\n"
     ]
    },
    {
     "name": "stderr",
     "output_type": "stream",
     "text": [
      "                                                                                                         \r"
     ]
    }
   ],
   "source": [
    "# WandB – Initialize a new run\n",
    "wandb.init(entity=\"vibferreira\", project=\"master_thesis\")\n",
    "\n",
    "# classes\n",
    "classes = ('no_vegetation', 'vegetation')\n",
    "\n",
    "# Initialize model\n",
    "unet = model.unet_model.to(config.DEVICE)\n",
    "\n",
    "# initialize loss function and optimizer\n",
    "lossFunc = smp.losses.DiceLoss(smp.losses.BINARY_MODE, from_logits=True)\n",
    "opt = optim.Adam(unet.parameters(), lr=config.LR)\n",
    "\n",
    "# initialize a dictionary to store TRAINING history (keep track on training)\n",
    "training_history = {\"avg_train_loss\": [], \"train_accuracy\": [], \"IoU\":[],\"f1score\":[], \"avgDice\":[]}\n",
    "\n",
    "# # initialize a dictionary to store VALIDATION history (keep track on VALIDATION)\n",
    "validation_history = {\"avg_val_loss\": [], \"val_accuracy\": [], \"IoU_val\":[], \"f1score_val\":[]}\n",
    "\n",
    "# Using log=\"all\" log histograms of parameter values in addition to gradients\n",
    "wandb.watch(unet, log=\"all\")\n",
    "\n",
    "# Autocasting \n",
    "scaler = GradScaler()\n",
    "\n",
    "# initialize best accuracy\n",
    "best_accuracy = 0.0\n",
    "print(f'''Training the network for {config.NUM_EPOCHS} epochs, with a batch size of {config.BATCH_SIZE}''') # try with logger\n",
    "\n",
    "# loop = tqdm(range(config.NUM_EPOCHS))\n",
    "iter_ = 0\n",
    "for e in range(config.NUM_EPOCHS):\n",
    "    trained = train(unet, train_dataloader, opt, lossFunc, epoch=e, scaler=scaler)\n",
    "    validated = validation(unet, val_dataloader, lossFunc, epoch=e)\n",
    "    \n",
    "    # Save best model\n",
    "    if validated['IoU_val'][-1] > best_accuracy : # maybe add a minimum number of epochs as conditions\n",
    "        utis.save_best_model(unet, BEST_MODEL, validated, e)\n",
    "        best_accuracy = validation_history['IoU_val'][-1]"
   ]
  },
  {
   "cell_type": "markdown",
   "metadata": {},
   "source": [
    "### Predictions"
   ]
  },
  {
   "cell_type": "code",
   "execution_count": 13,
   "metadata": {},
   "outputs": [],
   "source": [
    "# def save_predictions_as_imgs():\n",
    "#     # test dataloader\n",
    "#     pass\n",
    "\n",
    "# # load the model \n",
    "# # Initialize our model\n",
    "# unet = model.unet_model.to(config.DEVICE)\n",
    "# path_model = '../best_model/best_model_epoch_4_acc_0.985_iou_0.003.pth' \n",
    "# unet.load_state_dict(torch.load(path_model))\n",
    "# folder = '../saved_images' \n",
    "\n",
    "# y_hat_test = []\n",
    "# y_true_test = []\n",
    "\n",
    "# # switch off autograd\n",
    "# with torch.no_grad():\n",
    "#     # set the model in evaluation mode\n",
    "#     unet.eval()\n",
    "\n",
    "#     # loop over the validation set\n",
    "#     loop = tqdm(test_dataloader, leave=False)\n",
    "\n",
    "#     for idx, (x_test, y_test) in enumerate(loop):\n",
    "#         # send the input to the device\n",
    "#         (x_test, y_test)  = (x_test.to(config.DEVICE), y_test.to(config.DEVICE))\n",
    "\n",
    "#         # Predictions\n",
    "#         pred_test = unet(x_test)\n",
    "\n",
    "#         # Assign appropriate class # ASK SEBASTIAN\n",
    "#         pred_test = pred_test.sigmoid()\n",
    "#         pred_test = (pred_test > 0.5).float()\n",
    "\n",
    "#         # Storing predictions and true labels \n",
    "#         y_hat_test.append(pred_test)\n",
    "#         y_true_test.append(y_test)\n",
    "\n",
    "#         # metrics\n",
    "#         utis.plot_comparison(x_test, pred_test, y_test)\n",
    "\n",
    "#         # Save images\n",
    "#         # save_image(pred_test, f\"{folder}/pred_{idx}.png\") \n",
    "#         # save_image(y_test, f\"{folder}/y_true_{idx}.png\")\n",
    "\n",
    "# # # Stack and flatten for confusion matrix # GETTING SIZE ERROR AT THE MOMENT\n",
    "# # torch.stack(y_hat_test).flatten()\n",
    "# # torch.stack(y_true_test).flatten()"
   ]
  },
  {
   "cell_type": "code",
   "execution_count": 14,
   "metadata": {},
   "outputs": [],
   "source": [
    "# y_hat_test[0].detach().cpu()"
   ]
  },
  {
   "cell_type": "code",
   "execution_count": 15,
   "metadata": {},
   "outputs": [
    {
     "data": {
      "image/png": "[encoded data removed]",
      "text/plain": [
       "<Figure size 1080x360 with 2 Axes>"
      ]
     },
     "metadata": {
      "needs_background": "light"
     },
     "output_type": "display_data"
    }
   ],
   "source": [
    "_, ax = plt.subplots(1, 2, figsize=(15,5))\n",
    "ax[0].plot(training_history['avg_train_loss'], label= 'train')\n",
    "ax[0].plot(validation_history['avg_val_loss'], label='val')\n",
    "ax[0].set_title('Loss')\n",
    "ax[1].plot(training_history['train_accuracy'], label= 'train')\n",
    "ax[1].plot(validation_history['val_accuracy'], label='val')\n",
    "ax[1].set_title('Validation')\n",
    "ax[1].legend()\n",
    "plt.show()"
   ]
  }
 ],
 "metadata": {
  "interpreter": {
   "hash": "5176260fbc2cf1b78dfea4cc2edeb44537a6fdfe3203945a451ce281e8b97dc2"
  },
  "kernelspec": {
   "display_name": "torch_env",
   "language": "python",
   "name": "torch_env"
  },
  "language_info": {
   "codemirror_mode": {
    "name": "ipython",
    "version": 3
   },
   "file_extension": ".py",
   "mimetype": "text/x-python",
   "name": "python",
   "nbconvert_exporter": "python",
   "pygments_lexer": "ipython3",
   "version": "3.9.7"
  }
 },
 "nbformat": 4,
 "nbformat_minor": 4
}
