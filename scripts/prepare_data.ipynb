{
 "cells": [
  {
   "cell_type": "code",
   "execution_count": 253,
   "metadata": {},
   "outputs": [],
   "source": [
    "import glob\n",
    "import os\n",
    "import numpy as np\n",
    "import random\n",
    "from skimage.io import imread\n",
    "\n",
    "from PIL import Image \n",
    "import cv2\n",
    "\n",
    "import glob\n",
    "import os\n",
    "\n",
    "import torch\n",
    "from torch.utils.data import Dataset\n",
    "from torchvision.transforms import ToTensor\n",
    "\n",
    "import utilities\n",
    "\n",
    "import matplotlib.pyplot as plt"
   ]
  },
  {
   "cell_type": "code",
   "execution_count": 226,
   "metadata": {},
   "outputs": [],
   "source": [
    "# increase MAX pixel count \n",
    "Image.MAX_IMAGE_PIXELS = 1000000000\n",
    "WINDOW_SIZE = (1024, 1024)"
   ]
  },
  {
   "cell_type": "code",
   "execution_count": 227,
   "metadata": {},
   "outputs": [],
   "source": [
    "# Testing Pytorch dataset \n",
    "class HistoricalImagesDataset(Dataset):\n",
    "    def __init__(self, data_paths:list, label_paths:list):\n",
    "        # List of files \n",
    "        self.data_paths = data_paths\n",
    "        self.label_paths = label_paths\n",
    "\n",
    "    def __len__(self) -> int:\n",
    "        # Lenght \n",
    "        return len(self.data_paths)\n",
    "\n",
    "    # def resize(self, img:Image) -> Image: # done already\n",
    "    #     '''Resizes the images to meet the smallest image size '''\n",
    "    #     return img.resize((14445, 10917), Image.BICUBIC)\n",
    "\n",
    "    def clahe_equalized(self, img:Image) -> np.array:\n",
    "        ''' Apply CLAHE equalization'''\n",
    "        np_img= np.asarray(img)\n",
    "        clahe = cv2.createCLAHE(clipLimit = 5)\n",
    "        return clahe.apply(np_img)\n",
    "\n",
    "    def __getitem__(self, idx:int) -> torch.Tensor: \n",
    "        ''' Get individual data corresponding to the index in the data and label paths\n",
    "        Returns:\n",
    "        Tensor: specific data on index converted to Tensor'''\n",
    "        # Image\n",
    "        image = Image.open(self.data_paths[idx])\n",
    "        # image = self.resize(image)\n",
    "        # image = self.clahe_equalized(image)\n",
    "        image = ToTensor()(image) # numpy array to a normalised tensor [0 to 1]\n",
    "\n",
    "        # Labels \n",
    "        mask = Image.open(self.label_paths[idx])\n",
    "        # mask = self.resize(mask)\n",
    "        mask = ToTensor()(mask)\n",
    "\n",
    "        return  image, mask"
   ]
  },
  {
   "cell_type": "code",
   "execution_count": 254,
   "metadata": {},
   "outputs": [],
   "source": [
    "class HistoricalImagesDataset(Dataset):\n",
    "    def __init__(self, data_paths:list, label_paths:list):\n",
    "        # List of files \n",
    "        self.data_paths = data_paths\n",
    "        self.label_paths = label_paths\n",
    "\n",
    "    def __len__(self) -> int:\n",
    "        # Lenght \n",
    "        return len(self.data_paths)\n",
    "\n",
    "    def __getitem__(self, idx:int) -> torch.Tensor: \n",
    "        ''' Get individual data corresponding to the index in the data and label paths\n",
    "        Returns:\n",
    "        Tensor: specific data on index converted to Tensor'''\n",
    "        # Image\n",
    "        image = imread(self.data_paths[idx])\n",
    "        image = ToTensor()(image) # numpy array to a normalised tensor [0 to 1]\n",
    "\n",
    "        # Labels \n",
    "        mask = imread(self.label_paths[idx])\n",
    "        mask = ToTensor()(mask)\n",
    "\n",
    "        return  image, mask"
   ]
  },
  {
   "cell_type": "code",
   "execution_count": 229,
   "metadata": {},
   "outputs": [
    {
     "name": "stdout",
     "output_type": "stream",
     "text": [
      "Number of images: 9410 \n",
      "Number of masks: 9409\n"
     ]
    }
   ],
   "source": [
    "PATCH_IMAGES = r'..\\data\\patches\\images'\n",
    "PATCH_MASK = r'..\\data\\patches\\masks'\n",
    "\n",
    "image_paths = glob.glob(PATCH_IMAGES +'\\*')\n",
    "mask_paths = glob.glob(PATCH_MASK + '\\*')\n",
    "\n",
    "print('Number of images:', len(image_paths),'\\nNumber of masks:', len(mask_paths))"
   ]
  },
  {
   "cell_type": "code",
   "execution_count": 265,
   "metadata": {},
   "outputs": [
    {
     "data": {
      "text/plain": [
       "<matplotlib.image.AxesImage at 0x19aa9defd30>"
      ]
     },
     "execution_count": 265,
     "metadata": {},
     "output_type": "execute_result"
    },
    {
     "data": {
      "image/png": "[encoded data removed]",
      "text/plain": [
       "<Figure size 432x288 with 1 Axes>"
      ]
     },
     "metadata": {
      "needs_background": "light"
     },
     "output_type": "display_data"
    }
   ],
   "source": [
    "# Image.open(image_paths[8])\n",
    "plt.imshow(imread(mask_paths[9000]))"
   ]
  },
  {
   "cell_type": "code",
   "execution_count": 231,
   "metadata": {},
   "outputs": [],
   "source": [
    "# img_paths = []\n",
    "# years = utilities.get_file_name(mask_paths)\n",
    "# for year in years: \n",
    "#     if np.isin(year, utilities.get_file_name(image_paths)): \n",
    "#         img_paths.append(f'{IMAGES_PATH}\\{year}.tif')\n",
    "# print(years)"
   ]
  },
  {
   "cell_type": "code",
   "execution_count": 255,
   "metadata": {},
   "outputs": [
    {
     "data": {
      "text/plain": [
       "9410"
      ]
     },
     "execution_count": 255,
     "metadata": {},
     "output_type": "execute_result"
    }
   ],
   "source": [
    "dataset = HistoricalImagesDataset(image_paths, mask_paths)\n",
    "len(dataset) #???\n",
    "# dataset.data_paths[0]\n",
    "# img =  Image.open(dataset.data_paths[0])\n",
    "# dataset.resize(img)"
   ]
  },
  {
   "cell_type": "code",
   "execution_count": 256,
   "metadata": {},
   "outputs": [],
   "source": [
    "data = next(iter(dataset))"
   ]
  },
  {
   "cell_type": "code",
   "execution_count": 257,
   "metadata": {},
   "outputs": [
    {
     "data": {
      "text/plain": [
       "array([0.], dtype=float32)"
      ]
     },
     "execution_count": 257,
     "metadata": {},
     "output_type": "execute_result"
    }
   ],
   "source": [
    "np.unique(data[0])"
   ]
  },
  {
   "cell_type": "code",
   "execution_count": 258,
   "metadata": {},
   "outputs": [],
   "source": [
    "img = torch.squeeze(data[0])\n",
    "mask = torch.squeeze(data[1])\n",
    "# img[::10,::10*]"
   ]
  },
  {
   "cell_type": "code",
   "execution_count": 259,
   "metadata": {},
   "outputs": [
    {
     "data": {
      "text/plain": [
       "<matplotlib.image.AxesImage at 0x19aa8ef6eb0>"
      ]
     },
     "execution_count": 259,
     "metadata": {},
     "output_type": "execute_result"
    },
    {
     "data": {
      "image/png": "[encoded data removed]",
      "text/plain": [
       "<Figure size 432x288 with 1 Axes>"
      ]
     },
     "metadata": {
      "needs_background": "light"
     },
     "output_type": "display_data"
    }
   ],
   "source": [
    "plt.imshow(img)"
   ]
  },
  {
   "cell_type": "code",
   "execution_count": 237,
   "metadata": {},
   "outputs": [],
   "source": [
    "def plot_comparison(img1: np.array, img2: np.array, title: str, hist:bool=False):\n",
    "    n_col = 2\n",
    "    _, axs = plt.subplots(1, n_col, figsize=(20, 10))\n",
    "\n",
    "    axs[0].imshow(img, cmap='gray')\n",
    "    axs[0].set_title(title[0])\n",
    "\n",
    "    axs[1].imshow(mask, cmap='gray')\n",
    "    axs[1].set_title(title[1])\n",
    "    plt.show()"
   ]
  },
  {
   "cell_type": "code",
   "execution_count": 238,
   "metadata": {},
   "outputs": [
    {
     "data": {
      "image/png": "[encoded data removed]",
      "text/plain": [
       "<Figure size 1440x720 with 2 Axes>"
      ]
     },
     "metadata": {
      "needs_background": "light"
     },
     "output_type": "display_data"
    }
   ],
   "source": [
    "plot_comparison(img, mask, title=['image', 'mask'])"
   ]
  },
  {
   "cell_type": "code",
   "execution_count": 239,
   "metadata": {},
   "outputs": [],
   "source": [
    "import numpy as np\n",
    "from patchify import patchify, unpatchify\n",
    "\n",
    "image = np.array([[1,2,3,4], [5,6,7,8], [9,10,11,12]])\n",
    "\n",
    "patches = patchify(image, (2,2), step=1) # split image into 2*3 small 2*2 patches.\n",
    "\n",
    "assert patches.shape == (2, 3, 2, 2)\n",
    "reconstructed_image = unpatchify(patches, image.shape)"
   ]
  },
  {
   "cell_type": "code",
   "execution_count": 240,
   "metadata": {},
   "outputs": [
    {
     "data": {
      "text/plain": [
       "(3, 4)"
      ]
     },
     "execution_count": 240,
     "metadata": {},
     "output_type": "execute_result"
    }
   ],
   "source": [
    "image.shape"
   ]
  },
  {
   "cell_type": "code",
   "execution_count": 241,
   "metadata": {},
   "outputs": [
    {
     "data": {
      "text/plain": [
       "<matplotlib.image.AxesImage at 0x19aa88ecdf0>"
      ]
     },
     "execution_count": 241,
     "metadata": {},
     "output_type": "execute_result"
    },
    {
     "data": {
      "image/png": "[encoded data removed]",
      "text/plain": [
       "<Figure size 432x288 with 1 Axes>"
      ]
     },
     "metadata": {
      "needs_background": "light"
     },
     "output_type": "display_data"
    }
   ],
   "source": [
    "plt.imshow(patches[0][0])"
   ]
  }
 ],
 "metadata": {
  "interpreter": {
   "hash": "5176260fbc2cf1b78dfea4cc2edeb44537a6fdfe3203945a451ce281e8b97dc2"
  },
  "kernelspec": {
   "display_name": "Python 3.8.12 ('geopandas')",
   "language": "python",
   "name": "python3"
  },
  "language_info": {
   "codemirror_mode": {
    "name": "ipython",
    "version": 3
   },
   "file_extension": ".py",
   "mimetype": "text/x-python",
   "name": "python",
   "nbconvert_exporter": "python",
   "pygments_lexer": "ipython3",
   "version": "3.8.12"
  },
  "orig_nbformat": 4
 },
 "nbformat": 4,
 "nbformat_minor": 2
}
